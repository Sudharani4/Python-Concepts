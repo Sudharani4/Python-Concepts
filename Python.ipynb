{
 "cells": [
  {
   "cell_type": "markdown",
   "id": "a707c5e9",
   "metadata": {},
   "source": [
    "# Where Python is used ?\n",
    "\n",
    "\n",
    "# 1. website development - sending data, processing data,url routing,cyber security\n",
    "\n",
    "# 2. software development\n",
    "\n",
    "# 3. Task Automation\n",
    "\n",
    "# 4. Data Analysis - Conduct Statistial calculations,ML Algorithms,manipulate &    analyse data\n",
    "\n",
    "# 5. Machine Learning\n",
    "\n",
    "\n",
    "# 6. Artificial Intelligence\n",
    "\n",
    "# 7. Data Visualisation\n",
    "\n",
    "# 8. Accountants & Scientists"
   ]
  },
  {
   "cell_type": "code",
   "execution_count": null,
   "id": "89b1242b",
   "metadata": {},
   "outputs": [],
   "source": []
  },
  {
   "cell_type": "markdown",
   "id": "12024bad",
   "metadata": {},
   "source": [
    "# Father of python - Guido Van Rassum  Launched python- Feb 20, 1991"
   ]
  },
  {
   "cell_type": "code",
   "execution_count": null,
   "id": "30c50f18",
   "metadata": {},
   "outputs": [],
   "source": []
  },
  {
   "cell_type": "markdown",
   "id": "dd08c5e0",
   "metadata": {},
   "source": [
    "# What is pyhon\n",
    "\n",
    "\n",
    "# Recently growing popular programming Language\n",
    "\n",
    "# 1. General purpose Lang  - To download youtube videos, pdf to voice,             games,emails, whatsup message,\n",
    "\n",
    "# 2. Beginner Friendly Lang\n",
    "\n",
    "# 3. Code Readability\n",
    "\n",
    "# 4. High-level program lang : Close to english lang\n",
    "\n",
    "# 5. Object oriented PL(classes, objects)\n"
   ]
  },
  {
   "cell_type": "code",
   "execution_count": null,
   "id": "766439a4",
   "metadata": {},
   "outputs": [],
   "source": []
  },
  {
   "cell_type": "code",
   "execution_count": null,
   "id": "04461a5f",
   "metadata": {},
   "outputs": [],
   "source": []
  },
  {
   "cell_type": "markdown",
   "id": "fa75fb48",
   "metadata": {},
   "source": [
    "# Hello World Program"
   ]
  },
  {
   "cell_type": "code",
   "execution_count": null,
   "id": "1cc1ee04",
   "metadata": {},
   "outputs": [],
   "source": []
  },
  {
   "cell_type": "code",
   "execution_count": null,
   "id": "bcd41873",
   "metadata": {},
   "outputs": [],
   "source": []
  },
  {
   "cell_type": "code",
   "execution_count": null,
   "id": "83a19451",
   "metadata": {},
   "outputs": [],
   "source": []
  },
  {
   "cell_type": "code",
   "execution_count": null,
   "id": "7c620489",
   "metadata": {},
   "outputs": [],
   "source": []
  },
  {
   "cell_type": "markdown",
   "id": "78f95f78",
   "metadata": {},
   "source": [
    "# Print function\n",
    "\n",
    "Print function is used to print some thing that is given inside \" ()\" "
   ]
  },
  {
   "cell_type": "code",
   "execution_count": 1,
   "id": "a5895da0",
   "metadata": {},
   "outputs": [
    {
     "name": "stdout",
     "output_type": "stream",
     "text": [
      "Hello World!!!\n"
     ]
    }
   ],
   "source": [
    "print(\"Hello World!!!\")"
   ]
  },
  {
   "cell_type": "code",
   "execution_count": 2,
   "id": "7610a74d",
   "metadata": {},
   "outputs": [
    {
     "name": "stdout",
     "output_type": "stream",
     "text": [
      "7\n"
     ]
    }
   ],
   "source": [
    "print(7)"
   ]
  },
  {
   "cell_type": "code",
   "execution_count": 3,
   "id": "446dc826",
   "metadata": {},
   "outputs": [
    {
     "name": "stdout",
     "output_type": "stream",
     "text": [
      "sudharani\n"
     ]
    }
   ],
   "source": [
    "print(\"sudha\" + \"rani\")"
   ]
  },
  {
   "cell_type": "code",
   "execution_count": 4,
   "id": "2ec9a97d",
   "metadata": {},
   "outputs": [
    {
     "name": "stdout",
     "output_type": "stream",
     "text": [
      "sudha rani\n"
     ]
    }
   ],
   "source": [
    "print(\"sudha\"+\" rani\")"
   ]
  },
  {
   "cell_type": "code",
   "execution_count": 5,
   "id": "d781539f",
   "metadata": {},
   "outputs": [
    {
     "name": "stdout",
     "output_type": "stream",
     "text": [
      "10\n"
     ]
    }
   ],
   "source": [
    "print(7+3)"
   ]
  },
  {
   "cell_type": "code",
   "execution_count": 6,
   "id": "7bcf2a81",
   "metadata": {},
   "outputs": [
    {
     "name": "stdout",
     "output_type": "stream",
     "text": [
      "3\n",
      "3\n"
     ]
    }
   ],
   "source": [
    "A = int(input())  \n",
    "print(A)"
   ]
  },
  {
   "cell_type": "markdown",
   "id": "1a4f41c4",
   "metadata": {},
   "source": [
    "# Operators in Python\n",
    "\n",
    "1. Arithematic Operators\n",
    "2. Assignment Operators\n",
    "3. Comparision Operators\n",
    "4. Logical Operators\n",
    "5. Identity Operators\n",
    "6. Membership Operators"
   ]
  },
  {
   "cell_type": "markdown",
   "id": "a7029479",
   "metadata": {},
   "source": [
    "# 1.Arithematic Operators( +, - ,* , /, %, **)"
   ]
  },
  {
   "cell_type": "code",
   "execution_count": 7,
   "id": "570bfc0b",
   "metadata": {},
   "outputs": [
    {
     "name": "stdout",
     "output_type": "stream",
     "text": [
      "add =  30\n",
      "sub =  10\n",
      "mul =  200\n",
      "div =  2.0\n",
      "mod =  0\n",
      "exp =  10240000000000\n"
     ]
    }
   ],
   "source": [
    "a = 20\n",
    "b = 10\n",
    "add = a + b\n",
    "print('add = ',add)\n",
    "\n",
    "sub = a - b\n",
    "print('sub = ',sub)\n",
    "\n",
    "mul = a * b\n",
    "print('mul = ',mul)\n",
    "\n",
    "div = a / b\n",
    "print('div = ',div)\n",
    "\n",
    "mod = a % b\n",
    "print('mod = ',mod)\n",
    "\n",
    "exp = a ** b\n",
    "print('exp = ',exp)"
   ]
  },
  {
   "cell_type": "markdown",
   "id": "7df48447",
   "metadata": {},
   "source": [
    "# Assignment Operators(+= , - = ,*=, /=, **=, %=)"
   ]
  },
  {
   "cell_type": "code",
   "execution_count": 8,
   "id": "9866e08d",
   "metadata": {
    "scrolled": true
   },
   "outputs": [
    {
     "name": "stdout",
     "output_type": "stream",
     "text": [
      "10\n",
      "12\n",
      "8\n",
      "10\n",
      "3.0\n",
      "512\n",
      "0\n"
     ]
    }
   ],
   "source": [
    "a = 10\n",
    "print(a)\n",
    "a += 2\n",
    "print(a)\n",
    "\n",
    "b = 10\n",
    "b -= 2\n",
    "print(b)\n",
    "\n",
    "c = 5\n",
    "c *= 2\n",
    "print(c)\n",
    "\n",
    "d = 6\n",
    "d /= 2\n",
    "print(d)\n",
    "\n",
    "e = 8\n",
    "e **= 3\n",
    "print(e)\n",
    "\n",
    "\n",
    "f = 10\n",
    "f %= 2\n",
    "print(f)"
   ]
  },
  {
   "cell_type": "markdown",
   "id": "5b9e2ca7",
   "metadata": {},
   "source": [
    "# Comparision Operators ( == ,<=, >=, !=,<,> )"
   ]
  },
  {
   "cell_type": "code",
   "execution_count": 9,
   "id": "ad9b40d0",
   "metadata": {},
   "outputs": [
    {
     "name": "stdout",
     "output_type": "stream",
     "text": [
      "False\n",
      "True\n",
      "True\n",
      "False\n",
      "True\n",
      "False\n"
     ]
    }
   ],
   "source": [
    "a = 4\n",
    "b = 5\n",
    "print( a == b)\n",
    "print( a != b)\n",
    "print( a <= b)\n",
    "print( a >= b)\n",
    "print( a < b)\n",
    "print( a > b)"
   ]
  },
  {
   "cell_type": "markdown",
   "id": "9d350f5a",
   "metadata": {},
   "source": [
    "# Logical Operators (and , or, not) "
   ]
  },
  {
   "cell_type": "markdown",
   "id": "7f5422c3",
   "metadata": {},
   "source": [
    "# AND - both the conditions are true\n",
    "\n",
    "# OR - Atleast one condition is true"
   ]
  },
  {
   "cell_type": "markdown",
   "id": "93bd602b",
   "metadata": {},
   "source": []
  },
  {
   "cell_type": "code",
   "execution_count": 10,
   "id": "801da6dd",
   "metadata": {},
   "outputs": [
    {
     "name": "stdout",
     "output_type": "stream",
     "text": [
      "False\n",
      "True\n",
      "True\n"
     ]
    }
   ],
   "source": [
    "a = 10\n",
    "print(a<20 and a>21)\n",
    "print(a<20 or a>5)\n",
    "print(not(a > 20))"
   ]
  },
  {
   "cell_type": "markdown",
   "id": "b75f5509",
   "metadata": {},
   "source": [
    "# Identity Operators ( is, is not)"
   ]
  },
  {
   "cell_type": "code",
   "execution_count": 11,
   "id": "ec39c263",
   "metadata": {},
   "outputs": [
    {
     "name": "stdout",
     "output_type": "stream",
     "text": [
      "False\n",
      "True\n"
     ]
    }
   ],
   "source": [
    "a = 10\n",
    "b = 5\n",
    "print( a is b)\n",
    "print( a is not b)"
   ]
  },
  {
   "cell_type": "markdown",
   "id": "048865e6",
   "metadata": {},
   "source": [
    "# Membership Operators ( in, not in)"
   ]
  },
  {
   "cell_type": "code",
   "execution_count": 12,
   "id": "0b9c420b",
   "metadata": {},
   "outputs": [
    {
     "name": "stdout",
     "output_type": "stream",
     "text": [
      "True\n",
      "False\n",
      "False\n",
      "False\n"
     ]
    }
   ],
   "source": [
    "a = 5\n",
    "b = 10\n",
    "\n",
    "c = [1,2,3,4,5]\n",
    "print(a in c)\n",
    "print(b in c)\n",
    "\n",
    "print(a not in c)\n",
    "print(b in c)"
   ]
  },
  {
   "cell_type": "markdown",
   "id": "34e34614",
   "metadata": {},
   "source": [
    "# Data types (int,float ,comp,bool,string)"
   ]
  },
  {
   "cell_type": "code",
   "execution_count": 13,
   "id": "9a045b7e",
   "metadata": {},
   "outputs": [
    {
     "name": "stdout",
     "output_type": "stream",
     "text": [
      "<class 'float'>\n",
      "5.0\n"
     ]
    }
   ],
   "source": [
    "b=float(a)\n",
    "print(type(b))\n",
    "print(b)"
   ]
  },
  {
   "cell_type": "code",
   "execution_count": 14,
   "id": "1644e67a",
   "metadata": {},
   "outputs": [
    {
     "name": "stdout",
     "output_type": "stream",
     "text": [
      "5\n"
     ]
    }
   ],
   "source": [
    "c=int(b)\n",
    "print(c)\n"
   ]
  },
  {
   "cell_type": "code",
   "execution_count": 15,
   "id": "364ed12c",
   "metadata": {},
   "outputs": [
    {
     "name": "stdout",
     "output_type": "stream",
     "text": [
      "(3+4j)\n",
      "<class 'complex'>\n"
     ]
    }
   ],
   "source": [
    "a=3+4j\n",
    "print(a)\n",
    "print(type(a))"
   ]
  },
  {
   "cell_type": "code",
   "execution_count": 16,
   "id": "73f3ddc8",
   "metadata": {},
   "outputs": [
    {
     "name": "stdout",
     "output_type": "stream",
     "text": [
      "3\n"
     ]
    }
   ],
   "source": [
    "d=int(3.4)\n",
    "print(d)"
   ]
  },
  {
   "cell_type": "code",
   "execution_count": 17,
   "id": "d52b7609",
   "metadata": {},
   "outputs": [
    {
     "name": "stdout",
     "output_type": "stream",
     "text": [
      "True\n",
      "<class 'bool'>\n"
     ]
    }
   ],
   "source": [
    "a = True\n",
    "b = False\n",
    "print(a)\n",
    "print(type(a))"
   ]
  },
  {
   "cell_type": "code",
   "execution_count": 18,
   "id": "3ce17c25",
   "metadata": {},
   "outputs": [
    {
     "name": "stdout",
     "output_type": "stream",
     "text": [
      "<class 'bool'>\n"
     ]
    }
   ],
   "source": [
    "print(type(b))"
   ]
  },
  {
   "cell_type": "code",
   "execution_count": 19,
   "id": "bcb17496",
   "metadata": {},
   "outputs": [
    {
     "name": "stdout",
     "output_type": "stream",
     "text": [
      "False\n"
     ]
    }
   ],
   "source": [
    "a = 8 < 3\n",
    "print(a)"
   ]
  },
  {
   "cell_type": "code",
   "execution_count": 20,
   "id": "b68a76ec",
   "metadata": {},
   "outputs": [
    {
     "name": "stdout",
     "output_type": "stream",
     "text": [
      "False\n"
     ]
    }
   ],
   "source": [
    "print(a)"
   ]
  },
  {
   "cell_type": "code",
   "execution_count": 21,
   "id": "85d561ee",
   "metadata": {},
   "outputs": [
    {
     "name": "stdout",
     "output_type": "stream",
     "text": [
      "True\n"
     ]
    }
   ],
   "source": [
    "a = 8 > 3\n",
    "print(a)\n"
   ]
  },
  {
   "cell_type": "markdown",
   "id": "f8b5fc28",
   "metadata": {},
   "source": [
    "# String must be enclosed in single(' ') or double quotes(\" \")\n",
    "\n",
    "a = \"Sudha\"\n",
    "print(a)\n",
    "print(type(a))"
   ]
  },
  {
   "cell_type": "code",
   "execution_count": 22,
   "id": "bda07a20",
   "metadata": {},
   "outputs": [
    {
     "name": "stdout",
     "output_type": "stream",
     "text": [
      "5\n"
     ]
    }
   ],
   "source": [
    "print(a * 5)"
   ]
  },
  {
   "cell_type": "markdown",
   "id": "1d670a9d",
   "metadata": {},
   "source": [
    "# Slicing"
   ]
  },
  {
   "cell_type": "code",
   "execution_count": 12,
   "id": "34b9aba0",
   "metadata": {},
   "outputs": [
    {
     "name": "stdout",
     "output_type": "stream",
     "text": [
      "saya\n"
     ]
    }
   ],
   "source": [
    "str1 = [\"sudha\", \"vimala\", \"sadha\", \"saya\"]\n",
    "for name in str1:\n",
    "    #  if name[1] == \"u\":\n",
    "    #  if (len(name) >= 3 and len(name) == 4 and name[0] == \"s\"):\n",
    "        print(name)\n",
    "       "
   ]
  },
  {
   "cell_type": "code",
   "execution_count": 23,
   "id": "7d116275",
   "metadata": {},
   "outputs": [
    {
     "name": "stdout",
     "output_type": "stream",
     "text": [
      "progr\n",
      "rogr\n",
      "programming\n",
      "progr\n",
      "ogramming\n",
      "pormi\n"
     ]
    }
   ],
   "source": [
    "b = \"programming\"\n",
    "\n",
    "print(b[0:5])\n",
    "\n",
    "print(b[1:5])\n",
    "\n",
    "print(b[:])\n",
    "\n",
    "print(b[0:5])\n",
    "\n",
    "print(b[2:])\n",
    "\n",
    "print(b[0:10:2])\n"
   ]
  },
  {
   "cell_type": "markdown",
   "id": "ca81c25b",
   "metadata": {},
   "source": [
    "# Str Concatenation"
   ]
  },
  {
   "cell_type": "code",
   "execution_count": 24,
   "id": "0a4dc5d3",
   "metadata": {},
   "outputs": [
    {
     "name": "stdout",
     "output_type": "stream",
     "text": [
      "sudharani\n"
     ]
    }
   ],
   "source": [
    "a = \"sudha\"\n",
    "b = \"rani\"\n",
    "print(a+b)"
   ]
  },
  {
   "cell_type": "markdown",
   "id": "0fa3da4f",
   "metadata": {},
   "source": [
    "# Types of objects in Python\n",
    "\n",
    "\n",
    "# 1.Mutable objects -we can change the value once it is created\n",
    "1. List\n",
    "2. Set\n",
    "3. Dictionary\n",
    "\n",
    "# 2.Immutable objects - we can't change the values once it is created\n",
    "1. int\n",
    "2. float\n",
    "3. String\n",
    "4. bool\n",
    "5. Tuple\n",
    "\n"
   ]
  },
  {
   "cell_type": "markdown",
   "id": "284a1150",
   "metadata": {},
   "source": [
    "# List  - are mutable,allow duplicates, enclosed in ( [] )"
   ]
  },
  {
   "cell_type": "code",
   "execution_count": 25,
   "id": "9b8e195f",
   "metadata": {},
   "outputs": [
    {
     "name": "stdout",
     "output_type": "stream",
     "text": [
      "[1, 4, 'sudha', 3.5]\n",
      "<class 'list'>\n"
     ]
    }
   ],
   "source": [
    "l = [1, 4, \"sudha\",3.5]\n",
    "print(l)\n",
    "print(type(l))"
   ]
  },
  {
   "cell_type": "code",
   "execution_count": 26,
   "id": "7d430874",
   "metadata": {},
   "outputs": [
    {
     "name": "stdout",
     "output_type": "stream",
     "text": [
      "[1, 4, 'sudha', 3.5, 'ashok']\n",
      "<class 'list'>\n"
     ]
    }
   ],
   "source": [
    "                                 # add elements to a list\n",
    "l = [1, 4, \"sudha\",3.5]\n",
    "l.append('ashok')\n",
    "print(l)\n",
    "print(type(l))"
   ]
  },
  {
   "cell_type": "markdown",
   "id": "90fb4bfa",
   "metadata": {},
   "source": [
    "# print elements with their index value\n",
    "l = [1, 4, \"sudha\",3.5]\n",
    "\n",
    "print(l[3])    \n",
    "    "
   ]
  },
  {
   "cell_type": "markdown",
   "id": "7e1d5498",
   "metadata": {},
   "source": [
    "# list allows duplicate values\n",
    "l = [1, 4, \"sudha\",3.5, 3.5, 3.5]\n",
    "\n",
    "print(l)      \n",
    "    \n",
    "    "
   ]
  },
  {
   "cell_type": "markdown",
   "id": "8cf7e361",
   "metadata": {},
   "source": [
    "# number of ele in a list\n",
    "print(len(l))    "
   ]
  },
  {
   "cell_type": "markdown",
   "id": "bb79bda2",
   "metadata": {},
   "source": [
    "# empty list\n",
    "\n",
    "l = []\n",
    "print(l) "
   ]
  },
  {
   "cell_type": "code",
   "execution_count": 27,
   "id": "29707e1d",
   "metadata": {},
   "outputs": [
    {
     "name": "stdout",
     "output_type": "stream",
     "text": [
      "[1, 4, 'sudha', 3.5, 'ashok', 'ashok']\n"
     ]
    }
   ],
   "source": [
    "l.append('ashok')\n",
    "print(l)"
   ]
  },
  {
   "cell_type": "markdown",
   "id": "3fb5720e",
   "metadata": {},
   "source": [
    "# delete ele in the list\n",
    "l = [1, 4, \"sudha\",3.5, 3.5, 3.5]\n",
    "\n",
    "del l[2]\n",
    "print(l) \n"
   ]
  },
  {
   "cell_type": "code",
   "execution_count": 28,
   "id": "d7e0c962",
   "metadata": {},
   "outputs": [
    {
     "name": "stdout",
     "output_type": "stream",
     "text": [
      "[1, 1, 2, 3, 5, 6, 7, 3, 4, 9, 6, 5]\n"
     ]
    }
   ],
   "source": [
    "# join 2 lists\n",
    "l1 = [1,1,2,3,5,6,7]\n",
    "l2 = [3,4,9,6,5]\n",
    "l3 = l1 + l2\n",
    "print(l3)"
   ]
  },
  {
   "cell_type": "markdown",
   "id": "3a87b044",
   "metadata": {},
   "source": [
    "# Tuple  - are immutable ,allow duplicates, enclosed in ( )"
   ]
  },
  {
   "cell_type": "markdown",
   "id": "8aacc125",
   "metadata": {},
   "source": [
    "# Tuple allows all data types\n",
    "\n",
    "t = (1,2.3,'sudha',4)\n",
    "print(t)"
   ]
  },
  {
   "cell_type": "code",
   "execution_count": 29,
   "id": "df5d0596",
   "metadata": {},
   "outputs": [
    {
     "name": "stdout",
     "output_type": "stream",
     "text": [
      "[1, 2, 3, 4]\n",
      "(1, 2, 3, 4)\n"
     ]
    }
   ],
   "source": [
    "# Converting list to tuple\n",
    "\n",
    "l = [1,2,3,4]\n",
    "print(l)\n",
    "\n",
    "my_tuple = tuple(l)\n",
    "print(my_tuple)\n"
   ]
  },
  {
   "cell_type": "code",
   "execution_count": 30,
   "id": "bd0faf1c",
   "metadata": {},
   "outputs": [
    {
     "ename": "AttributeError",
     "evalue": "'tuple' object has no attribute 'append'",
     "output_type": "error",
     "traceback": [
      "\u001b[1;31m-----------------------------------------------------\u001b[0m",
      "\u001b[1;31mAttributeError\u001b[0m      Traceback (most recent call last)",
      "Cell \u001b[1;32mIn[30], line 1\u001b[0m\n\u001b[1;32m----> 1\u001b[0m \u001b[43mmy_tuple\u001b[49m\u001b[38;5;241;43m.\u001b[39;49m\u001b[43mappend\u001b[49m(\u001b[38;5;241m6\u001b[39m)\n\u001b[0;32m      2\u001b[0m \u001b[38;5;28mprint\u001b[39m(my_tuple)\n",
      "\u001b[1;31mAttributeError\u001b[0m: 'tuple' object has no attribute 'append'"
     ]
    }
   ],
   "source": [
    "my_tuple.append(6)\n",
    "print(my_tuple)"
   ]
  },
  {
   "cell_type": "markdown",
   "id": "f9fb7a49",
   "metadata": {},
   "source": [
    "# Set - doesn't allow duplicates, enclosed in { }"
   ]
  },
  {
   "cell_type": "code",
   "execution_count": null,
   "id": "fbe62823",
   "metadata": {},
   "outputs": [],
   "source": [
    "s = {1,2,3,4,5}\n",
    "print(type(s))\n",
    "print(s)"
   ]
  },
  {
   "cell_type": "code",
   "execution_count": null,
   "id": "2fd9fee3",
   "metadata": {},
   "outputs": [],
   "source": [
    "print(s[4])"
   ]
  },
  {
   "cell_type": "code",
   "execution_count": null,
   "id": "a45ac0a8",
   "metadata": {},
   "outputs": [],
   "source": []
  },
  {
   "cell_type": "code",
   "execution_count": null,
   "id": "d3dc4fb3",
   "metadata": {},
   "outputs": [],
   "source": [
    "# convrting list to set\n",
    "l = [1,2,3,4,5]\n",
    "s = set(l)\n",
    "print(s)\n"
   ]
  },
  {
   "cell_type": "markdown",
   "id": "8a8a0b4b",
   "metadata": {},
   "source": [
    "# Dictionary :  key-value pairs,doesn't allow duplicates"
   ]
  },
  {
   "cell_type": "code",
   "execution_count": null,
   "id": "e105386f",
   "metadata": {},
   "outputs": [],
   "source": [
    "dic = {'name' :\"sudha\" , 'age':20}\n",
    "print(dic)\n"
   ]
  },
  {
   "cell_type": "code",
   "execution_count": null,
   "id": "8c0590e0",
   "metadata": {},
   "outputs": [],
   "source": [
    "dict = {\"stud1\":int(input(\"enter stud1 marks :\")), \"stud2\":int(input(\"enter stud2 marks :\"))}\n",
    "stud1 = dict['stud1']\n",
    "stud2 = dict['stud2']\n",
    "print(dict['stud1'])\n",
    "print(dict['stud2'])"
   ]
  },
  {
   "cell_type": "code",
   "execution_count": null,
   "id": "bdb95fb1",
   "metadata": {},
   "outputs": [],
   "source": []
  },
  {
   "cell_type": "code",
   "execution_count": null,
   "id": "832fb41e",
   "metadata": {},
   "outputs": [],
   "source": []
  },
  {
   "cell_type": "markdown",
   "id": "268dff4e",
   "metadata": {},
   "source": [
    "# If statement"
   ]
  },
  {
   "cell_type": "code",
   "execution_count": null,
   "id": "88fcf5be",
   "metadata": {},
   "outputs": [],
   "source": [
    "# If statement\n",
    "a = 33\n",
    "b = 200\n",
    "if b > a:\n",
    " print(\"b is greater than a\")\n"
   ]
  },
  {
   "cell_type": "markdown",
   "id": "b9855e94",
   "metadata": {},
   "source": [
    "# elif statement"
   ]
  },
  {
   "cell_type": "code",
   "execution_count": null,
   "id": "9d3aaf52",
   "metadata": {},
   "outputs": [],
   "source": [
    "a = 33\n",
    "b = 33\n",
    "if b > a:\n",
    " print(\"b is greater than a\")\n",
    "elif a == b:\n",
    " print(\"a and b are equal\")"
   ]
  },
  {
   "cell_type": "markdown",
   "id": "5250f452",
   "metadata": {},
   "source": [
    "# Simple If else"
   ]
  },
  {
   "cell_type": "code",
   "execution_count": null,
   "id": "0f1e1b1f",
   "metadata": {},
   "outputs": [],
   "source": [
    "a = int(input(\"enter num1 :\"))\n",
    "b = int(input(\"enter num2 :\"))\n",
    "if (a > b):\n",
    "    print('a is big')\n",
    "else:\n",
    "    print('b is big') \n",
    "    "
   ]
  },
  {
   "cell_type": "markdown",
   "id": "04030156",
   "metadata": {},
   "source": [
    "# if elif else"
   ]
  },
  {
   "cell_type": "code",
   "execution_count": null,
   "id": "8a88548f",
   "metadata": {},
   "outputs": [],
   "source": [
    "a = 4\n",
    "b = 5\n",
    "c = 6\n",
    "if (b<a>c):\n",
    "    print('a is big')\n",
    "elif (a<b>c):\n",
    "    print('b is big')\n",
    "else:\n",
    "    print('c is big')      "
   ]
  },
  {
   "cell_type": "code",
   "execution_count": null,
   "id": "0e81a340",
   "metadata": {},
   "outputs": [],
   "source": []
  },
  {
   "cell_type": "code",
   "execution_count": null,
   "id": "f1391ef9",
   "metadata": {},
   "outputs": [],
   "source": [
    "a = 50\n",
    "b = 50\n",
    "if a != b:\n",
    "    print(\"if block\")\n",
    "    \n",
    "elif a == b:\n",
    "    print(\"1st elif block\")\n",
    "    \n",
    "elif a > b:\n",
    "    print(\"2 elif block\")\n",
    "elif a >= b:\n",
    "    print(\"3 elif block\")\n",
    "elif a < b:\n",
    "    print(\"4 elif block\")    \n",
    "    \n",
    "elif a <= b:\n",
    "    print(\"5 elif block\")    \n",
    "    \n",
    "else:\n",
    "    print(\"else block\")    \n",
    "    \n",
    "    "
   ]
  },
  {
   "cell_type": "markdown",
   "id": "68d2ef91",
   "metadata": {},
   "source": [
    "# nested if statement"
   ]
  },
  {
   "cell_type": "code",
   "execution_count": null,
   "id": "15c48d28",
   "metadata": {},
   "outputs": [],
   "source": [
    "a = 4\n",
    "b = 5\n",
    "c = 6\n",
    "if (a>b):\n",
    "    if(a>c):\n",
    "        print('a is big')\n",
    "    else:\n",
    "        print('c is big')\n",
    "else:\n",
    "    if (b>c):\n",
    "        print('b is big')\n",
    "    else:\n",
    "        print('c is big')\n",
    "        "
   ]
  },
  {
   "cell_type": "markdown",
   "id": "1d0df407",
   "metadata": {},
   "source": [
    "# Loops in Python (for ,while)"
   ]
  },
  {
   "cell_type": "markdown",
   "id": "d6ff714d",
   "metadata": {},
   "source": [
    "# For - If you need to repeat the same, or similar, code a number of times"
   ]
  },
  {
   "cell_type": "code",
   "execution_count": null,
   "id": "41f16c03",
   "metadata": {},
   "outputs": [],
   "source": [
    "max_num = int(input(\"enter max num: \"))\n",
    "for i in range(1, max_num+1,2):\n",
    "    print(i)"
   ]
  },
  {
   "cell_type": "code",
   "execution_count": null,
   "id": "93453dab",
   "metadata": {},
   "outputs": [],
   "source": [
    "for i in range(2,13,2):\n",
    "    print(i)"
   ]
  },
  {
   "cell_type": "code",
   "execution_count": null,
   "id": "63547163",
   "metadata": {
    "scrolled": true
   },
   "outputs": [],
   "source": [
    "l1 = [1,2,3,4,5,6,7]\n",
    "for i in l1:\n",
    "    print(i)"
   ]
  },
  {
   "cell_type": "markdown",
   "id": "c0e8ce1a",
   "metadata": {},
   "source": [
    "xgbm(,svm,random forest classifier"
   ]
  },
  {
   "cell_type": "markdown",
   "id": "1fcd14f9",
   "metadata": {},
   "source": [
    "tableu,power BI"
   ]
  },
  {
   "cell_type": "code",
   "execution_count": null,
   "id": "ea073a66",
   "metadata": {},
   "outputs": [],
   "source": [
    "for i in [1,2,3,4,5,6,7,8]:\n",
    "    print(i)\n",
    "    if i == 6:\n",
    "        break"
   ]
  },
  {
   "cell_type": "markdown",
   "id": "9d31bea6",
   "metadata": {},
   "source": [
    "# Break - Terminate a loop "
   ]
  },
  {
   "cell_type": "code",
   "execution_count": 40,
   "id": "27beedaa",
   "metadata": {},
   "outputs": [
    {
     "name": "stdout",
     "output_type": "stream",
     "text": [
      "1\n",
      "2\n"
     ]
    }
   ],
   "source": [
    "i = 1\n",
    "while i < 6:\n",
    "    if i == 3:\n",
    "        break\n",
    "    print(i)\n",
    "    i = i+1"
   ]
  },
  {
   "cell_type": "code",
   "execution_count": 39,
   "id": "9e1cc98f",
   "metadata": {},
   "outputs": [
    {
     "name": "stdout",
     "output_type": "stream",
     "text": [
      "apple\n",
      "grapes\n"
     ]
    }
   ],
   "source": [
    "fruits = [\"apple\",\"grapes\",\"banana\"]\n",
    "for i in fruits:\n",
    "    print(i)\n",
    "    if i == \"grapes\":\n",
    "    #if i == \"apple\":\n",
    "        break"
   ]
  },
  {
   "cell_type": "code",
   "execution_count": 32,
   "id": "f1061a1d",
   "metadata": {},
   "outputs": [
    {
     "name": "stdout",
     "output_type": "stream",
     "text": [
      "1\n",
      "3\n",
      "5\n",
      "7\n",
      "9\n"
     ]
    }
   ],
   "source": [
    "for i in range(0,10):\n",
    "    if i % 2 == 0:\n",
    "        continue\n",
    "    else:\n",
    "        print(i)\n",
    "   "
   ]
  },
  {
   "cell_type": "code",
   "execution_count": 41,
   "id": "a08a012d",
   "metadata": {},
   "outputs": [],
   "source": [
    "for i in range(0,10):\n",
    "    if i % 3 == 0:\n",
    "        break\n",
    "    else:\n",
    "        print(i)"
   ]
  },
  {
   "cell_type": "markdown",
   "id": "192edaa5",
   "metadata": {},
   "source": [
    "# Continue -Ends current iteration and continue to next iteration"
   ]
  },
  {
   "cell_type": "code",
   "execution_count": 38,
   "id": "3ee78572",
   "metadata": {},
   "outputs": [
    {
     "name": "stdout",
     "output_type": "stream",
     "text": [
      "1\n",
      "3\n",
      "4\n",
      "5\n",
      "6\n"
     ]
    }
   ],
   "source": [
    "i = 0\n",
    "while i < 6:\n",
    "    i = i+1\n",
    "    if i == 2:# Here 2 is skipped and moved to next iteration\n",
    "        continue\n",
    "    print(i)"
   ]
  },
  {
   "cell_type": "markdown",
   "id": "c4e9e3ad",
   "metadata": {},
   "source": [
    "# Print for 1000 even numbers"
   ]
  },
  {
   "cell_type": "code",
   "execution_count": 5,
   "id": "be637a72",
   "metadata": {
    "collapsed": true
   },
   "outputs": [
    {
     "name": "stdout",
     "output_type": "stream",
     "text": [
      "2\n",
      "4\n",
      "6\n",
      "8\n",
      "10\n",
      "12\n",
      "14\n",
      "16\n",
      "18\n",
      "20\n",
      "22\n",
      "24\n",
      "26\n",
      "28\n",
      "30\n",
      "32\n",
      "34\n",
      "36\n",
      "38\n",
      "40\n",
      "42\n",
      "44\n",
      "46\n",
      "48\n",
      "50\n",
      "52\n",
      "54\n",
      "56\n",
      "58\n",
      "60\n",
      "62\n",
      "64\n",
      "66\n",
      "68\n",
      "70\n",
      "72\n",
      "74\n",
      "76\n",
      "78\n",
      "80\n",
      "82\n",
      "84\n",
      "86\n",
      "88\n",
      "90\n",
      "92\n",
      "94\n",
      "96\n",
      "98\n",
      "100\n",
      "102\n",
      "104\n",
      "106\n",
      "108\n",
      "110\n",
      "112\n",
      "114\n",
      "116\n",
      "118\n",
      "120\n",
      "122\n",
      "124\n",
      "126\n",
      "128\n",
      "130\n",
      "132\n",
      "134\n",
      "136\n",
      "138\n",
      "140\n",
      "142\n",
      "144\n",
      "146\n",
      "148\n",
      "150\n",
      "152\n",
      "154\n",
      "156\n",
      "158\n",
      "160\n",
      "162\n",
      "164\n",
      "166\n",
      "168\n",
      "170\n",
      "172\n",
      "174\n",
      "176\n",
      "178\n",
      "180\n",
      "182\n",
      "184\n",
      "186\n",
      "188\n",
      "190\n",
      "192\n",
      "194\n",
      "196\n",
      "198\n",
      "200\n",
      "202\n",
      "204\n",
      "206\n",
      "208\n",
      "210\n",
      "212\n",
      "214\n",
      "216\n",
      "218\n",
      "220\n",
      "222\n",
      "224\n",
      "226\n",
      "228\n",
      "230\n",
      "232\n",
      "234\n",
      "236\n",
      "238\n",
      "240\n",
      "242\n",
      "244\n",
      "246\n",
      "248\n",
      "250\n",
      "252\n",
      "254\n",
      "256\n",
      "258\n",
      "260\n",
      "262\n",
      "264\n",
      "266\n",
      "268\n",
      "270\n",
      "272\n",
      "274\n",
      "276\n",
      "278\n",
      "280\n",
      "282\n",
      "284\n",
      "286\n",
      "288\n",
      "290\n",
      "292\n",
      "294\n",
      "296\n",
      "298\n",
      "300\n",
      "302\n",
      "304\n",
      "306\n",
      "308\n",
      "310\n",
      "312\n",
      "314\n",
      "316\n",
      "318\n",
      "320\n",
      "322\n",
      "324\n",
      "326\n",
      "328\n",
      "330\n",
      "332\n",
      "334\n",
      "336\n",
      "338\n",
      "340\n",
      "342\n",
      "344\n",
      "346\n",
      "348\n",
      "350\n",
      "352\n",
      "354\n",
      "356\n",
      "358\n",
      "360\n",
      "362\n",
      "364\n",
      "366\n",
      "368\n",
      "370\n",
      "372\n",
      "374\n",
      "376\n",
      "378\n",
      "380\n",
      "382\n",
      "384\n",
      "386\n",
      "388\n",
      "390\n",
      "392\n",
      "394\n",
      "396\n",
      "398\n",
      "400\n",
      "402\n",
      "404\n",
      "406\n",
      "408\n",
      "410\n",
      "412\n",
      "414\n",
      "416\n",
      "418\n",
      "420\n",
      "422\n",
      "424\n",
      "426\n",
      "428\n",
      "430\n",
      "432\n",
      "434\n",
      "436\n",
      "438\n",
      "440\n",
      "442\n",
      "444\n",
      "446\n",
      "448\n",
      "450\n",
      "452\n",
      "454\n",
      "456\n",
      "458\n",
      "460\n",
      "462\n",
      "464\n",
      "466\n",
      "468\n",
      "470\n",
      "472\n",
      "474\n",
      "476\n",
      "478\n",
      "480\n",
      "482\n",
      "484\n",
      "486\n",
      "488\n",
      "490\n",
      "492\n",
      "494\n",
      "496\n",
      "498\n",
      "500\n",
      "502\n",
      "504\n",
      "506\n",
      "508\n",
      "510\n",
      "512\n",
      "514\n",
      "516\n",
      "518\n",
      "520\n",
      "522\n",
      "524\n",
      "526\n",
      "528\n",
      "530\n",
      "532\n",
      "534\n",
      "536\n",
      "538\n",
      "540\n",
      "542\n",
      "544\n",
      "546\n",
      "548\n",
      "550\n",
      "552\n",
      "554\n",
      "556\n",
      "558\n",
      "560\n",
      "562\n",
      "564\n",
      "566\n",
      "568\n",
      "570\n",
      "572\n",
      "574\n",
      "576\n",
      "578\n",
      "580\n",
      "582\n",
      "584\n",
      "586\n",
      "588\n",
      "590\n",
      "592\n",
      "594\n",
      "596\n",
      "598\n",
      "600\n",
      "602\n",
      "604\n",
      "606\n",
      "608\n",
      "610\n",
      "612\n",
      "614\n",
      "616\n",
      "618\n",
      "620\n",
      "622\n",
      "624\n",
      "626\n",
      "628\n",
      "630\n",
      "632\n",
      "634\n",
      "636\n",
      "638\n",
      "640\n",
      "642\n",
      "644\n",
      "646\n",
      "648\n",
      "650\n",
      "652\n",
      "654\n",
      "656\n",
      "658\n",
      "660\n",
      "662\n",
      "664\n",
      "666\n",
      "668\n",
      "670\n",
      "672\n",
      "674\n",
      "676\n",
      "678\n",
      "680\n",
      "682\n",
      "684\n",
      "686\n",
      "688\n",
      "690\n",
      "692\n",
      "694\n",
      "696\n",
      "698\n",
      "700\n",
      "702\n",
      "704\n",
      "706\n",
      "708\n",
      "710\n",
      "712\n",
      "714\n",
      "716\n",
      "718\n",
      "720\n",
      "722\n",
      "724\n",
      "726\n",
      "728\n",
      "730\n",
      "732\n",
      "734\n",
      "736\n",
      "738\n",
      "740\n",
      "742\n",
      "744\n",
      "746\n",
      "748\n",
      "750\n",
      "752\n",
      "754\n",
      "756\n",
      "758\n",
      "760\n",
      "762\n",
      "764\n",
      "766\n",
      "768\n",
      "770\n",
      "772\n",
      "774\n",
      "776\n",
      "778\n",
      "780\n",
      "782\n",
      "784\n",
      "786\n",
      "788\n",
      "790\n",
      "792\n",
      "794\n",
      "796\n",
      "798\n",
      "800\n",
      "802\n",
      "804\n",
      "806\n",
      "808\n",
      "810\n",
      "812\n",
      "814\n",
      "816\n",
      "818\n",
      "820\n",
      "822\n",
      "824\n",
      "826\n",
      "828\n",
      "830\n",
      "832\n",
      "834\n",
      "836\n",
      "838\n",
      "840\n",
      "842\n",
      "844\n",
      "846\n",
      "848\n",
      "850\n",
      "852\n",
      "854\n",
      "856\n",
      "858\n",
      "860\n",
      "862\n",
      "864\n",
      "866\n",
      "868\n",
      "870\n",
      "872\n",
      "874\n",
      "876\n",
      "878\n",
      "880\n",
      "882\n",
      "884\n",
      "886\n",
      "888\n",
      "890\n",
      "892\n",
      "894\n",
      "896\n",
      "898\n",
      "900\n",
      "902\n",
      "904\n",
      "906\n",
      "908\n",
      "910\n",
      "912\n",
      "914\n",
      "916\n",
      "918\n",
      "920\n",
      "922\n",
      "924\n",
      "926\n",
      "928\n",
      "930\n",
      "932\n",
      "934\n",
      "936\n",
      "938\n",
      "940\n",
      "942\n",
      "944\n",
      "946\n",
      "948\n",
      "950\n",
      "952\n",
      "954\n",
      "956\n",
      "958\n",
      "960\n",
      "962\n",
      "964\n",
      "966\n",
      "968\n",
      "970\n",
      "972\n",
      "974\n",
      "976\n",
      "978\n",
      "980\n",
      "982\n",
      "984\n",
      "986\n",
      "988\n",
      "990\n",
      "992\n",
      "994\n",
      "996\n",
      "998\n",
      "1000\n"
     ]
    }
   ],
   "source": [
    "i = 0\n",
    "while i < 1000:\n",
    "    i = i+1\n",
    "    if i % 2 != 0:\n",
    "        continue\n",
    "    print(i)    "
   ]
  },
  {
   "cell_type": "markdown",
   "id": "44c13f7a",
   "metadata": {},
   "source": [
    "# While loop - we can execute a set of statements as long as a condition is true.\n"
   ]
  },
  {
   "cell_type": "code",
   "execution_count": 6,
   "id": "9acab67c",
   "metadata": {},
   "outputs": [
    {
     "name": "stdout",
     "output_type": "stream",
     "text": [
      "2\n",
      "4\n",
      "6\n",
      "8\n",
      "10\n"
     ]
    }
   ],
   "source": [
    "i = 0\n",
    "while i < 10:\n",
    "    i = i+1\n",
    "    if i % 2 != 0:\n",
    "        continue\n",
    "    print(i)"
   ]
  },
  {
   "cell_type": "markdown",
   "id": "bf11c5f6",
   "metadata": {},
   "source": [
    "# Maths Functions\n",
    "\n",
    "\n",
    "# math.ceil(x) : smallest integer greater than or equal to x\n",
    "\n",
    "# math.floor(x) : the largest integer less than or equal to x\n",
    "\n",
    "# math.fsum(iterable) : Return an accurate floating point sum of values in the \n",
    " # iterable\n",
    " \n",
    "# math.gcd(*integers): Return the greatest common divisor of the specified integer arguments\n",
    "\n",
    "# math.isfinite(x): Return True if x is neither an infinity nor a NaN\n",
    "\n",
    "# math.isnan(x): math.isnan(x)\n",
    "\n",
    "# math.isqrt(n): Return the integer square root of the nonnegative integer n\n",
    "\n",
    "# math.sqrt(x): Return the square root of x\n",
    "\n",
    "# math.pow(x, y): Returns the power of x**y\n",
    "\n",
    "# math.pi: The mathematical constant π = 3.141592\n",
    "\n",
    "# math.e: The mathematical constant e = 2.718281\n",
    "\n"
   ]
  },
  {
   "cell_type": "code",
   "execution_count": null,
   "id": "179a24fd",
   "metadata": {},
   "outputs": [],
   "source": []
  },
  {
   "cell_type": "markdown",
   "id": "00b45a03",
   "metadata": {},
   "source": [
    "# Functions\n",
    "# Why we need functions\n",
    "● Functions allow the same piece of code to run multiple times\n",
    "● Abstractions\n",
    "● Reusability\n",
    "● Functions are used to divide the program into simple modules"
   ]
  },
  {
   "cell_type": "code",
   "execution_count": 5,
   "id": "c036bfe2",
   "metadata": {},
   "outputs": [
    {
     "name": "stdout",
     "output_type": "stream",
     "text": [
      "enter max value: 20\n",
      "2\n",
      "4\n",
      "6\n",
      "8\n",
      "10\n",
      "12\n",
      "14\n",
      "16\n",
      "18\n",
      "20\n"
     ]
    }
   ],
   "source": [
    "def even(n):\n",
    "    i = 0\n",
    "    while i < n:\n",
    "        i = i+1\n",
    "        if i % 2 != 0:\n",
    "            continue\n",
    "        print(i)\n",
    "n = int(input(\"enter max value: \"))        \n",
    "even(n) \n",
    "#even(20)\n",
    "    "
   ]
  },
  {
   "cell_type": "code",
   "execution_count": null,
   "id": "c7c23f63",
   "metadata": {},
   "outputs": [],
   "source": []
  },
  {
   "cell_type": "code",
   "execution_count": null,
   "id": "cacb2f22",
   "metadata": {},
   "outputs": [],
   "source": []
  },
  {
   "cell_type": "code",
   "execution_count": null,
   "id": "ade09f62",
   "metadata": {},
   "outputs": [],
   "source": []
  },
  {
   "cell_type": "code",
   "execution_count": null,
   "id": "0a68d131",
   "metadata": {},
   "outputs": [],
   "source": []
  },
  {
   "cell_type": "code",
   "execution_count": null,
   "id": "95d6d831",
   "metadata": {},
   "outputs": [],
   "source": []
  },
  {
   "cell_type": "code",
   "execution_count": null,
   "id": "0eaefcdf",
   "metadata": {},
   "outputs": [],
   "source": []
  },
  {
   "cell_type": "code",
   "execution_count": null,
   "id": "c032b9bd",
   "metadata": {},
   "outputs": [],
   "source": []
  },
  {
   "cell_type": "code",
   "execution_count": null,
   "id": "6059220a",
   "metadata": {},
   "outputs": [],
   "source": []
  },
  {
   "cell_type": "code",
   "execution_count": null,
   "id": "cdd75500",
   "metadata": {},
   "outputs": [],
   "source": []
  },
  {
   "cell_type": "code",
   "execution_count": null,
   "id": "6b34b32d",
   "metadata": {},
   "outputs": [],
   "source": []
  },
  {
   "cell_type": "code",
   "execution_count": null,
   "id": "5f44ed79",
   "metadata": {},
   "outputs": [],
   "source": []
  },
  {
   "cell_type": "code",
   "execution_count": null,
   "id": "d6cac69e",
   "metadata": {},
   "outputs": [],
   "source": []
  },
  {
   "cell_type": "code",
   "execution_count": null,
   "id": "8b987688",
   "metadata": {},
   "outputs": [],
   "source": []
  },
  {
   "cell_type": "code",
   "execution_count": null,
   "id": "d73f8b95",
   "metadata": {},
   "outputs": [],
   "source": []
  },
  {
   "cell_type": "code",
   "execution_count": null,
   "id": "c39d64a9",
   "metadata": {},
   "outputs": [],
   "source": []
  },
  {
   "cell_type": "code",
   "execution_count": null,
   "id": "89a4cd44",
   "metadata": {},
   "outputs": [],
   "source": []
  },
  {
   "cell_type": "code",
   "execution_count": null,
   "id": "60ac7432",
   "metadata": {},
   "outputs": [],
   "source": []
  },
  {
   "cell_type": "code",
   "execution_count": null,
   "id": "977a3d93",
   "metadata": {},
   "outputs": [],
   "source": []
  },
  {
   "cell_type": "code",
   "execution_count": null,
   "id": "834a0d67",
   "metadata": {},
   "outputs": [],
   "source": []
  },
  {
   "cell_type": "code",
   "execution_count": null,
   "id": "5287662b",
   "metadata": {},
   "outputs": [],
   "source": []
  },
  {
   "cell_type": "code",
   "execution_count": null,
   "id": "98624f8f",
   "metadata": {},
   "outputs": [],
   "source": []
  },
  {
   "cell_type": "code",
   "execution_count": null,
   "id": "08cbc479",
   "metadata": {},
   "outputs": [],
   "source": []
  },
  {
   "cell_type": "code",
   "execution_count": null,
   "id": "425d10a5",
   "metadata": {},
   "outputs": [],
   "source": []
  },
  {
   "cell_type": "code",
   "execution_count": null,
   "id": "81f23fe9",
   "metadata": {},
   "outputs": [],
   "source": []
  },
  {
   "cell_type": "code",
   "execution_count": null,
   "id": "47391f33",
   "metadata": {},
   "outputs": [],
   "source": []
  },
  {
   "cell_type": "code",
   "execution_count": null,
   "id": "463c15df",
   "metadata": {},
   "outputs": [],
   "source": []
  },
  {
   "cell_type": "code",
   "execution_count": null,
   "id": "02a8207c",
   "metadata": {},
   "outputs": [],
   "source": []
  },
  {
   "cell_type": "code",
   "execution_count": null,
   "id": "e0bbfa50",
   "metadata": {},
   "outputs": [],
   "source": []
  },
  {
   "cell_type": "code",
   "execution_count": null,
   "id": "be540b96",
   "metadata": {},
   "outputs": [],
   "source": []
  },
  {
   "cell_type": "code",
   "execution_count": null,
   "id": "fa2e4816",
   "metadata": {},
   "outputs": [],
   "source": []
  },
  {
   "cell_type": "code",
   "execution_count": null,
   "id": "8e48189a",
   "metadata": {},
   "outputs": [],
   "source": []
  },
  {
   "cell_type": "code",
   "execution_count": null,
   "id": "ad31c9d9",
   "metadata": {},
   "outputs": [],
   "source": []
  },
  {
   "cell_type": "code",
   "execution_count": null,
   "id": "3725bac1",
   "metadata": {},
   "outputs": [],
   "source": []
  },
  {
   "cell_type": "code",
   "execution_count": null,
   "id": "939ecc9a",
   "metadata": {},
   "outputs": [],
   "source": []
  },
  {
   "cell_type": "code",
   "execution_count": null,
   "id": "b9e2ab2d",
   "metadata": {},
   "outputs": [],
   "source": []
  },
  {
   "cell_type": "code",
   "execution_count": null,
   "id": "b09e611b",
   "metadata": {},
   "outputs": [],
   "source": []
  },
  {
   "cell_type": "code",
   "execution_count": null,
   "id": "9b3ab1fb",
   "metadata": {},
   "outputs": [],
   "source": []
  },
  {
   "cell_type": "code",
   "execution_count": null,
   "id": "a3863338",
   "metadata": {},
   "outputs": [],
   "source": []
  },
  {
   "cell_type": "code",
   "execution_count": null,
   "id": "2293458c",
   "metadata": {},
   "outputs": [],
   "source": []
  },
  {
   "cell_type": "code",
   "execution_count": null,
   "id": "c04e7477",
   "metadata": {},
   "outputs": [],
   "source": []
  },
  {
   "cell_type": "code",
   "execution_count": null,
   "id": "f94750bf",
   "metadata": {},
   "outputs": [],
   "source": []
  },
  {
   "cell_type": "code",
   "execution_count": null,
   "id": "3de8b8fc",
   "metadata": {},
   "outputs": [],
   "source": []
  },
  {
   "cell_type": "code",
   "execution_count": null,
   "id": "a9810070",
   "metadata": {},
   "outputs": [],
   "source": []
  },
  {
   "cell_type": "code",
   "execution_count": null,
   "id": "3e25f345",
   "metadata": {},
   "outputs": [],
   "source": []
  },
  {
   "cell_type": "code",
   "execution_count": null,
   "id": "d7389021",
   "metadata": {},
   "outputs": [],
   "source": []
  },
  {
   "cell_type": "code",
   "execution_count": null,
   "id": "026c8aee",
   "metadata": {},
   "outputs": [],
   "source": []
  },
  {
   "cell_type": "code",
   "execution_count": null,
   "id": "b097003f",
   "metadata": {},
   "outputs": [],
   "source": []
  },
  {
   "cell_type": "code",
   "execution_count": null,
   "id": "54965f23",
   "metadata": {},
   "outputs": [],
   "source": []
  },
  {
   "cell_type": "code",
   "execution_count": null,
   "id": "017d5383",
   "metadata": {},
   "outputs": [],
   "source": []
  },
  {
   "cell_type": "code",
   "execution_count": null,
   "id": "889d49bb",
   "metadata": {},
   "outputs": [],
   "source": []
  },
  {
   "cell_type": "code",
   "execution_count": null,
   "id": "fd10d7d9",
   "metadata": {},
   "outputs": [],
   "source": []
  },
  {
   "cell_type": "code",
   "execution_count": null,
   "id": "76a28359",
   "metadata": {},
   "outputs": [],
   "source": []
  },
  {
   "cell_type": "code",
   "execution_count": null,
   "id": "4f10951d",
   "metadata": {},
   "outputs": [],
   "source": []
  },
  {
   "cell_type": "code",
   "execution_count": null,
   "id": "21c4b126",
   "metadata": {},
   "outputs": [],
   "source": []
  },
  {
   "cell_type": "code",
   "execution_count": null,
   "id": "47611730",
   "metadata": {},
   "outputs": [],
   "source": []
  },
  {
   "cell_type": "code",
   "execution_count": null,
   "id": "89b114f0",
   "metadata": {},
   "outputs": [],
   "source": []
  },
  {
   "cell_type": "code",
   "execution_count": null,
   "id": "bedc3b0a",
   "metadata": {},
   "outputs": [],
   "source": []
  },
  {
   "cell_type": "code",
   "execution_count": null,
   "id": "964ab603",
   "metadata": {},
   "outputs": [],
   "source": []
  },
  {
   "cell_type": "code",
   "execution_count": null,
   "id": "722d88a6",
   "metadata": {},
   "outputs": [],
   "source": []
  },
  {
   "cell_type": "code",
   "execution_count": null,
   "id": "5ef1b4b3",
   "metadata": {},
   "outputs": [],
   "source": []
  },
  {
   "cell_type": "code",
   "execution_count": null,
   "id": "9c2c3702",
   "metadata": {},
   "outputs": [],
   "source": []
  },
  {
   "cell_type": "code",
   "execution_count": null,
   "id": "aa27138d",
   "metadata": {},
   "outputs": [],
   "source": []
  },
  {
   "cell_type": "code",
   "execution_count": null,
   "id": "65ab0341",
   "metadata": {},
   "outputs": [],
   "source": []
  },
  {
   "cell_type": "code",
   "execution_count": null,
   "id": "51259c84",
   "metadata": {},
   "outputs": [],
   "source": []
  },
  {
   "cell_type": "code",
   "execution_count": null,
   "id": "8f1801a7",
   "metadata": {},
   "outputs": [],
   "source": []
  },
  {
   "cell_type": "code",
   "execution_count": null,
   "id": "ffced069",
   "metadata": {},
   "outputs": [],
   "source": []
  },
  {
   "cell_type": "code",
   "execution_count": null,
   "id": "9b9f9e1e",
   "metadata": {},
   "outputs": [],
   "source": []
  },
  {
   "cell_type": "code",
   "execution_count": null,
   "id": "d9a2defa",
   "metadata": {},
   "outputs": [],
   "source": []
  },
  {
   "cell_type": "code",
   "execution_count": null,
   "id": "0e7a0c1e",
   "metadata": {},
   "outputs": [],
   "source": []
  },
  {
   "cell_type": "code",
   "execution_count": null,
   "id": "fae3cbe8",
   "metadata": {},
   "outputs": [],
   "source": []
  },
  {
   "cell_type": "code",
   "execution_count": null,
   "id": "d73f0d4e",
   "metadata": {},
   "outputs": [],
   "source": []
  },
  {
   "cell_type": "code",
   "execution_count": null,
   "id": "909960df",
   "metadata": {},
   "outputs": [],
   "source": []
  },
  {
   "cell_type": "code",
   "execution_count": null,
   "id": "f59947e4",
   "metadata": {},
   "outputs": [],
   "source": []
  },
  {
   "cell_type": "code",
   "execution_count": null,
   "id": "25632f26",
   "metadata": {},
   "outputs": [],
   "source": []
  },
  {
   "cell_type": "code",
   "execution_count": null,
   "id": "407bfe33",
   "metadata": {},
   "outputs": [],
   "source": []
  },
  {
   "cell_type": "code",
   "execution_count": null,
   "id": "d1161711",
   "metadata": {},
   "outputs": [],
   "source": []
  },
  {
   "cell_type": "code",
   "execution_count": null,
   "id": "3abaaf70",
   "metadata": {},
   "outputs": [],
   "source": []
  },
  {
   "cell_type": "code",
   "execution_count": null,
   "id": "fdb3b0aa",
   "metadata": {},
   "outputs": [],
   "source": []
  },
  {
   "cell_type": "code",
   "execution_count": null,
   "id": "91985143",
   "metadata": {},
   "outputs": [],
   "source": []
  },
  {
   "cell_type": "code",
   "execution_count": null,
   "id": "7621a635",
   "metadata": {},
   "outputs": [],
   "source": []
  },
  {
   "cell_type": "code",
   "execution_count": null,
   "id": "dd25be4d",
   "metadata": {},
   "outputs": [],
   "source": []
  },
  {
   "cell_type": "code",
   "execution_count": null,
   "id": "67d80876",
   "metadata": {},
   "outputs": [],
   "source": []
  },
  {
   "cell_type": "code",
   "execution_count": null,
   "id": "89f2ad2e",
   "metadata": {},
   "outputs": [],
   "source": []
  },
  {
   "cell_type": "code",
   "execution_count": null,
   "id": "c4b42485",
   "metadata": {},
   "outputs": [],
   "source": []
  },
  {
   "cell_type": "code",
   "execution_count": null,
   "id": "52db211d",
   "metadata": {},
   "outputs": [],
   "source": []
  },
  {
   "cell_type": "code",
   "execution_count": null,
   "id": "1d12a13b",
   "metadata": {},
   "outputs": [],
   "source": []
  },
  {
   "cell_type": "code",
   "execution_count": null,
   "id": "664a7403",
   "metadata": {},
   "outputs": [],
   "source": []
  },
  {
   "cell_type": "code",
   "execution_count": null,
   "id": "401ada26",
   "metadata": {},
   "outputs": [],
   "source": []
  },
  {
   "cell_type": "code",
   "execution_count": null,
   "id": "93e35a24",
   "metadata": {},
   "outputs": [],
   "source": []
  },
  {
   "cell_type": "code",
   "execution_count": null,
   "id": "ffe83127",
   "metadata": {},
   "outputs": [],
   "source": []
  },
  {
   "cell_type": "code",
   "execution_count": null,
   "id": "3dca3909",
   "metadata": {},
   "outputs": [],
   "source": []
  },
  {
   "cell_type": "code",
   "execution_count": null,
   "id": "425f15d5",
   "metadata": {},
   "outputs": [],
   "source": []
  },
  {
   "cell_type": "code",
   "execution_count": null,
   "id": "dad8b9df",
   "metadata": {},
   "outputs": [],
   "source": []
  },
  {
   "cell_type": "code",
   "execution_count": null,
   "id": "1d0dfc2f",
   "metadata": {},
   "outputs": [],
   "source": []
  },
  {
   "cell_type": "code",
   "execution_count": null,
   "id": "07239248",
   "metadata": {},
   "outputs": [],
   "source": []
  },
  {
   "cell_type": "code",
   "execution_count": null,
   "id": "fb0efaab",
   "metadata": {},
   "outputs": [],
   "source": []
  },
  {
   "cell_type": "code",
   "execution_count": null,
   "id": "85ce4eb0",
   "metadata": {},
   "outputs": [],
   "source": []
  }
 ],
 "metadata": {
  "kernelspec": {
   "display_name": "Python 3 (ipykernel)",
   "language": "python",
   "name": "python3"
  },
  "language_info": {
   "codemirror_mode": {
    "name": "ipython",
    "version": 3
   },
   "file_extension": ".py",
   "mimetype": "text/x-python",
   "name": "python",
   "nbconvert_exporter": "python",
   "pygments_lexer": "ipython3",
   "version": "3.10.9"
  }
 },
 "nbformat": 4,
 "nbformat_minor": 5
}
